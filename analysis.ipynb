{
 "cells": [
  {
   "cell_type": "code",
   "execution_count": 63,
   "metadata": {},
   "outputs": [],
   "source": [
    "import pandas as pd\n",
    "import numpy as np\n",
    "import plotly.express as px"
   ]
  },
  {
   "cell_type": "code",
   "execution_count": 64,
   "metadata": {},
   "outputs": [],
   "source": [
    "def load_datasets(dataset_name):\n",
    "    methods = [\"IBDD\", \"CDT\", \"IKS\", \"WRS\", \"BASELINE\", \"TOPLINE\"]\n",
    "    \n",
    "    df_artificial = pd.DataFrame()\n",
    "    df_normal = pd.DataFrame()\n",
    "    \n",
    "    for method in methods:\n",
    "        df_a = pd.read_csv(f\"./results/{dataset_name}_{method}_artificial.csv\")\n",
    "        df_n = pd.read_csv(f\"./results/{dataset_name}_{method}_normal.csv\")\n",
    "        \n",
    "        df_a[\"method\"] = method\n",
    "        df_n[\"method\"] = method\n",
    "        \n",
    "        df_artificial = pd.concat([df_artificial, df_a], ignore_index=True)\n",
    "        df_normal = pd.concat([df_normal, df_n], ignore_index=True)\n",
    "    \n",
    "    return df_artificial, df_normal"
   ]
  },
  {
   "cell_type": "code",
   "execution_count": null,
   "metadata": {},
   "outputs": [],
   "source": [
    "DATASET = \"AedesQuinx\"\n",
    "\n",
    "df_artificial, df_normal = load_datasets(DATASET)"
   ]
  },
  {
   "cell_type": "code",
   "execution_count": 66,
   "metadata": {},
   "outputs": [
    {
     "name": "stdout",
     "output_type": "stream",
     "text": [
      "\n",
      "Resumo por Método:\n"
     ]
    },
    {
     "data": {
      "text/html": [
       "<div>\n",
       "<style scoped>\n",
       "    .dataframe tbody tr th:only-of-type {\n",
       "        vertical-align: middle;\n",
       "    }\n",
       "\n",
       "    .dataframe tbody tr th {\n",
       "        vertical-align: top;\n",
       "    }\n",
       "\n",
       "    .dataframe thead th {\n",
       "        text-align: right;\n",
       "    }\n",
       "</style>\n",
       "<table border=\"1\" class=\"dataframe\">\n",
       "  <thead>\n",
       "    <tr style=\"text-align: right;\">\n",
       "      <th></th>\n",
       "      <th>method</th>\n",
       "      <th>time</th>\n",
       "      <th>classification</th>\n",
       "      <th>drifts</th>\n",
       "      <th>false_alarms</th>\n",
       "    </tr>\n",
       "  </thead>\n",
       "  <tbody>\n",
       "    <tr>\n",
       "      <th>0</th>\n",
       "      <td>BASELINE</td>\n",
       "      <td>0.065122</td>\n",
       "      <td>73.90</td>\n",
       "      <td>0.0</td>\n",
       "      <td>0.0</td>\n",
       "    </tr>\n",
       "    <tr>\n",
       "      <th>1</th>\n",
       "      <td>CDT</td>\n",
       "      <td>0.227224</td>\n",
       "      <td>76.80</td>\n",
       "      <td>1.0</td>\n",
       "      <td>0.0</td>\n",
       "    </tr>\n",
       "    <tr>\n",
       "      <th>2</th>\n",
       "      <td>IBDD</td>\n",
       "      <td>0.081400</td>\n",
       "      <td>79.29</td>\n",
       "      <td>8.0</td>\n",
       "      <td>7.0</td>\n",
       "    </tr>\n",
       "    <tr>\n",
       "      <th>3</th>\n",
       "      <td>IKS</td>\n",
       "      <td>0.109803</td>\n",
       "      <td>76.89</td>\n",
       "      <td>1.0</td>\n",
       "      <td>0.0</td>\n",
       "    </tr>\n",
       "    <tr>\n",
       "      <th>4</th>\n",
       "      <td>TOPLINE</td>\n",
       "      <td>0.066221</td>\n",
       "      <td>76.47</td>\n",
       "      <td>1.0</td>\n",
       "      <td>0.0</td>\n",
       "    </tr>\n",
       "    <tr>\n",
       "      <th>5</th>\n",
       "      <td>WRS</td>\n",
       "      <td>0.088275</td>\n",
       "      <td>78.26</td>\n",
       "      <td>4.0</td>\n",
       "      <td>3.0</td>\n",
       "    </tr>\n",
       "  </tbody>\n",
       "</table>\n",
       "</div>"
      ],
      "text/plain": [
       "     method      time  classification  drifts  false_alarms\n",
       "0  BASELINE  0.065122           73.90     0.0           0.0\n",
       "1       CDT  0.227224           76.80     1.0           0.0\n",
       "2      IBDD  0.081400           79.29     8.0           7.0\n",
       "3       IKS  0.109803           76.89     1.0           0.0\n",
       "4   TOPLINE  0.066221           76.47     1.0           0.0\n",
       "5       WRS  0.088275           78.26     4.0           3.0"
      ]
     },
     "execution_count": 66,
     "metadata": {},
     "output_type": "execute_result"
    }
   ],
   "source": [
    "# Agrupar por 'method' e calcular a média e mediana de 'time (s)' e 'classification'\n",
    "method_summary = df_normal.groupby('method').agg({\n",
    "    'time (s)': 'mean',\n",
    "    'classification': 'mean',\n",
    "    'drifs_detected': 'sum',\n",
    "    'false_alarms': 'sum'\n",
    "}).reset_index()\n",
    "\n",
    "# Renomear colunas para melhor legibilidade\n",
    "method_summary.columns = ['method', 'time', 'classification', 'drifts', 'false_alarms']\n",
    "\n",
    "# Converter 'classification' para porcentagem\n",
    "method_summary['classification'] = (method_summary['classification'] * 100).round(2)\n",
    "\n",
    "# Exibir os resultados\n",
    "print(\"\\nResumo por Método:\")\n",
    "method_summary"
   ]
  },
  {
   "cell_type": "code",
   "execution_count": 67,
   "metadata": {},
   "outputs": [
    {
     "name": "stdout",
     "output_type": "stream",
     "text": [
      "\n",
      "Resumo por Método:\n"
     ]
    },
    {
     "data": {
      "text/html": [
       "<div>\n",
       "<style scoped>\n",
       "    .dataframe tbody tr th:only-of-type {\n",
       "        vertical-align: middle;\n",
       "    }\n",
       "\n",
       "    .dataframe tbody tr th {\n",
       "        vertical-align: top;\n",
       "    }\n",
       "\n",
       "    .dataframe thead th {\n",
       "        text-align: right;\n",
       "    }\n",
       "</style>\n",
       "<table border=\"1\" class=\"dataframe\">\n",
       "  <thead>\n",
       "    <tr style=\"text-align: right;\">\n",
       "      <th></th>\n",
       "      <th>method</th>\n",
       "      <th>time</th>\n",
       "      <th>classification</th>\n",
       "      <th>drifts</th>\n",
       "      <th>false_alarms</th>\n",
       "    </tr>\n",
       "  </thead>\n",
       "  <tbody>\n",
       "    <tr>\n",
       "      <th>0</th>\n",
       "      <td>BASELINE</td>\n",
       "      <td>0.063144</td>\n",
       "      <td>71.31</td>\n",
       "      <td>0.0</td>\n",
       "      <td>0.0</td>\n",
       "    </tr>\n",
       "    <tr>\n",
       "      <th>1</th>\n",
       "      <td>CDT</td>\n",
       "      <td>0.234320</td>\n",
       "      <td>73.86</td>\n",
       "      <td>1.0</td>\n",
       "      <td>0.0</td>\n",
       "    </tr>\n",
       "    <tr>\n",
       "      <th>2</th>\n",
       "      <td>IBDD</td>\n",
       "      <td>0.089696</td>\n",
       "      <td>73.90</td>\n",
       "      <td>12.0</td>\n",
       "      <td>11.0</td>\n",
       "    </tr>\n",
       "    <tr>\n",
       "      <th>3</th>\n",
       "      <td>IKS</td>\n",
       "      <td>0.111417</td>\n",
       "      <td>70.32</td>\n",
       "      <td>6.0</td>\n",
       "      <td>5.0</td>\n",
       "    </tr>\n",
       "    <tr>\n",
       "      <th>4</th>\n",
       "      <td>TOPLINE</td>\n",
       "      <td>0.066378</td>\n",
       "      <td>76.27</td>\n",
       "      <td>1.0</td>\n",
       "      <td>0.0</td>\n",
       "    </tr>\n",
       "    <tr>\n",
       "      <th>5</th>\n",
       "      <td>WRS</td>\n",
       "      <td>0.241631</td>\n",
       "      <td>72.27</td>\n",
       "      <td>85.0</td>\n",
       "      <td>84.0</td>\n",
       "    </tr>\n",
       "  </tbody>\n",
       "</table>\n",
       "</div>"
      ],
      "text/plain": [
       "     method      time  classification  drifts  false_alarms\n",
       "0  BASELINE  0.063144           71.31     0.0           0.0\n",
       "1       CDT  0.234320           73.86     1.0           0.0\n",
       "2      IBDD  0.089696           73.90    12.0          11.0\n",
       "3       IKS  0.111417           70.32     6.0           5.0\n",
       "4   TOPLINE  0.066378           76.27     1.0           0.0\n",
       "5       WRS  0.241631           72.27    85.0          84.0"
      ]
     },
     "execution_count": 67,
     "metadata": {},
     "output_type": "execute_result"
    }
   ],
   "source": [
    "# Agrupar por 'method' e calcular a média e mediana de 'time (s)' e 'classification'\n",
    "method_summary = df_artificial.groupby('method').agg({\n",
    "    'time (s)': 'mean',\n",
    "    'classification': 'mean',\n",
    "    'drifs_detected': 'sum',\n",
    "    'false_alarms': 'sum'\n",
    "}).reset_index()\n",
    "\n",
    "# Renomear colunas para melhor legibilidade\n",
    "method_summary.columns = ['method', 'time', 'classification', 'drifts', 'false_alarms']\n",
    "\n",
    "method_summary['classification'] = (method_summary['classification'] * 100).round(2)\n",
    "\n",
    "# Exibir os resultados\n",
    "print(\"\\nResumo por Método:\")\n",
    "method_summary"
   ]
  },
  {
   "cell_type": "code",
   "execution_count": 68,
   "metadata": {},
   "outputs": [
    {
     "data": {
      "application/vnd.plotly.v1+json": {
       "config": {
        "plotlyServerURL": "https://plot.ly"
       },
       "data": [
        {
         "alignmentgroup": "True",
         "hovertemplate": "Método=%{x}<br>Classificação Média=%{y}<extra></extra>",
         "legendgroup": "TOPLINE",
         "marker": {
          "color": "#636efa"
         },
         "name": "TOPLINE",
         "notched": false,
         "offsetgroup": "TOPLINE",
         "orientation": "v",
         "showlegend": true,
         "type": "box",
         "x": [
          "TOPLINE",
          "TOPLINE",
          "TOPLINE",
          "TOPLINE",
          "TOPLINE",
          "TOPLINE",
          "TOPLINE",
          "TOPLINE",
          "TOPLINE",
          "TOPLINE",
          "TOPLINE",
          "TOPLINE",
          "TOPLINE",
          "TOPLINE",
          "TOPLINE",
          "TOPLINE",
          "TOPLINE",
          "TOPLINE",
          "TOPLINE",
          "TOPLINE",
          "TOPLINE",
          "TOPLINE",
          "TOPLINE",
          "TOPLINE",
          "TOPLINE",
          "TOPLINE",
          "TOPLINE",
          "TOPLINE",
          "TOPLINE",
          "TOPLINE",
          "TOPLINE",
          "TOPLINE",
          "TOPLINE",
          "TOPLINE",
          "TOPLINE",
          "TOPLINE",
          "TOPLINE",
          "TOPLINE",
          "TOPLINE",
          "TOPLINE",
          "TOPLINE",
          "TOPLINE",
          "TOPLINE",
          "TOPLINE",
          "TOPLINE",
          "TOPLINE",
          "TOPLINE",
          "TOPLINE",
          "TOPLINE",
          "TOPLINE",
          "TOPLINE",
          "TOPLINE",
          "TOPLINE",
          "TOPLINE",
          "TOPLINE",
          "TOPLINE",
          "TOPLINE",
          "TOPLINE",
          "TOPLINE",
          "TOPLINE",
          "TOPLINE",
          "TOPLINE",
          "TOPLINE",
          "TOPLINE",
          "TOPLINE",
          "TOPLINE",
          "TOPLINE",
          "TOPLINE",
          "TOPLINE",
          "TOPLINE",
          "TOPLINE",
          "TOPLINE",
          "TOPLINE",
          "TOPLINE",
          "TOPLINE",
          "TOPLINE",
          "TOPLINE",
          "TOPLINE",
          "TOPLINE",
          "TOPLINE",
          "TOPLINE",
          "TOPLINE",
          "TOPLINE",
          "TOPLINE",
          "TOPLINE",
          "TOPLINE",
          "TOPLINE",
          "TOPLINE",
          "TOPLINE",
          "TOPLINE",
          "TOPLINE",
          "TOPLINE",
          "TOPLINE",
          "TOPLINE",
          "TOPLINE",
          "TOPLINE",
          "TOPLINE",
          "TOPLINE",
          "TOPLINE",
          "TOPLINE",
          "TOPLINE",
          "TOPLINE",
          "TOPLINE",
          "TOPLINE",
          "TOPLINE",
          "TOPLINE",
          "TOPLINE",
          "TOPLINE",
          "TOPLINE",
          "TOPLINE",
          "TOPLINE",
          "TOPLINE",
          "TOPLINE",
          "TOPLINE",
          "TOPLINE",
          "TOPLINE",
          "TOPLINE",
          "TOPLINE",
          "TOPLINE",
          "TOPLINE",
          "TOPLINE",
          "TOPLINE",
          "TOPLINE",
          "TOPLINE",
          "TOPLINE",
          "TOPLINE",
          "TOPLINE",
          "TOPLINE",
          "TOPLINE",
          "TOPLINE",
          "TOPLINE",
          "TOPLINE",
          "TOPLINE",
          "TOPLINE",
          "TOPLINE",
          "TOPLINE",
          "TOPLINE",
          "TOPLINE",
          "TOPLINE",
          "TOPLINE",
          "TOPLINE",
          "TOPLINE",
          "TOPLINE",
          "TOPLINE",
          "TOPLINE",
          "TOPLINE",
          "TOPLINE",
          "TOPLINE",
          "TOPLINE",
          "TOPLINE",
          "TOPLINE",
          "TOPLINE",
          "TOPLINE",
          "TOPLINE",
          "TOPLINE",
          "TOPLINE",
          "TOPLINE",
          "TOPLINE",
          "TOPLINE",
          "TOPLINE",
          "TOPLINE",
          "TOPLINE",
          "TOPLINE",
          "TOPLINE",
          "TOPLINE",
          "TOPLINE",
          "TOPLINE",
          "TOPLINE",
          "TOPLINE",
          "TOPLINE",
          "TOPLINE",
          "TOPLINE",
          "TOPLINE",
          "TOPLINE",
          "TOPLINE",
          "TOPLINE",
          "TOPLINE",
          "TOPLINE",
          "TOPLINE",
          "TOPLINE",
          "TOPLINE",
          "TOPLINE",
          "TOPLINE",
          "TOPLINE",
          "TOPLINE",
          "TOPLINE",
          "TOPLINE",
          "TOPLINE",
          "TOPLINE",
          "TOPLINE",
          "TOPLINE",
          "TOPLINE",
          "TOPLINE",
          "TOPLINE",
          "TOPLINE",
          "TOPLINE",
          "TOPLINE",
          "TOPLINE",
          "TOPLINE",
          "TOPLINE"
         ],
         "x0": " ",
         "xaxis": "x",
         "y": {
          "bdata": "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",
          "dtype": "f8"
         },
         "y0": " ",
         "yaxis": "y"
        },
        {
         "alignmentgroup": "True",
         "hovertemplate": "Método=%{x}<br>Classificação Média=%{y}<extra></extra>",
         "legendgroup": "IBDD",
         "marker": {
          "color": "#EF553B"
         },
         "name": "IBDD",
         "notched": false,
         "offsetgroup": "IBDD",
         "orientation": "v",
         "showlegend": true,
         "type": "box",
         "x": [
          "IBDD",
          "IBDD",
          "IBDD",
          "IBDD",
          "IBDD",
          "IBDD",
          "IBDD",
          "IBDD",
          "IBDD",
          "IBDD",
          "IBDD",
          "IBDD",
          "IBDD",
          "IBDD",
          "IBDD",
          "IBDD",
          "IBDD",
          "IBDD",
          "IBDD",
          "IBDD",
          "IBDD",
          "IBDD",
          "IBDD",
          "IBDD",
          "IBDD",
          "IBDD",
          "IBDD",
          "IBDD",
          "IBDD",
          "IBDD",
          "IBDD",
          "IBDD",
          "IBDD",
          "IBDD",
          "IBDD",
          "IBDD",
          "IBDD",
          "IBDD",
          "IBDD",
          "IBDD",
          "IBDD",
          "IBDD",
          "IBDD",
          "IBDD",
          "IBDD",
          "IBDD",
          "IBDD",
          "IBDD",
          "IBDD",
          "IBDD",
          "IBDD",
          "IBDD",
          "IBDD",
          "IBDD",
          "IBDD",
          "IBDD",
          "IBDD",
          "IBDD",
          "IBDD",
          "IBDD",
          "IBDD",
          "IBDD",
          "IBDD",
          "IBDD",
          "IBDD",
          "IBDD",
          "IBDD",
          "IBDD",
          "IBDD",
          "IBDD",
          "IBDD",
          "IBDD",
          "IBDD",
          "IBDD",
          "IBDD",
          "IBDD",
          "IBDD",
          "IBDD",
          "IBDD",
          "IBDD",
          "IBDD",
          "IBDD",
          "IBDD",
          "IBDD",
          "IBDD",
          "IBDD",
          "IBDD",
          "IBDD",
          "IBDD",
          "IBDD",
          "IBDD",
          "IBDD",
          "IBDD",
          "IBDD",
          "IBDD",
          "IBDD",
          "IBDD",
          "IBDD",
          "IBDD",
          "IBDD",
          "IBDD",
          "IBDD",
          "IBDD",
          "IBDD",
          "IBDD",
          "IBDD",
          "IBDD",
          "IBDD",
          "IBDD",
          "IBDD",
          "IBDD",
          "IBDD",
          "IBDD",
          "IBDD",
          "IBDD",
          "IBDD",
          "IBDD",
          "IBDD",
          "IBDD",
          "IBDD",
          "IBDD",
          "IBDD",
          "IBDD",
          "IBDD",
          "IBDD",
          "IBDD",
          "IBDD",
          "IBDD",
          "IBDD",
          "IBDD",
          "IBDD",
          "IBDD",
          "IBDD",
          "IBDD",
          "IBDD",
          "IBDD",
          "IBDD",
          "IBDD",
          "IBDD",
          "IBDD",
          "IBDD",
          "IBDD",
          "IBDD",
          "IBDD",
          "IBDD",
          "IBDD",
          "IBDD",
          "IBDD",
          "IBDD",
          "IBDD",
          "IBDD",
          "IBDD",
          "IBDD",
          "IBDD",
          "IBDD",
          "IBDD",
          "IBDD",
          "IBDD",
          "IBDD",
          "IBDD",
          "IBDD",
          "IBDD",
          "IBDD",
          "IBDD",
          "IBDD",
          "IBDD",
          "IBDD",
          "IBDD",
          "IBDD",
          "IBDD",
          "IBDD",
          "IBDD",
          "IBDD",
          "IBDD",
          "IBDD",
          "IBDD",
          "IBDD",
          "IBDD",
          "IBDD",
          "IBDD",
          "IBDD",
          "IBDD",
          "IBDD",
          "IBDD",
          "IBDD",
          "IBDD",
          "IBDD",
          "IBDD",
          "IBDD",
          "IBDD",
          "IBDD",
          "IBDD",
          "IBDD",
          "IBDD",
          "IBDD",
          "IBDD",
          "IBDD",
          "IBDD",
          "IBDD",
          "IBDD"
         ],
         "x0": " ",
         "xaxis": "x",
         "y": {
          "bdata": "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",
          "dtype": "f8"
         },
         "y0": " ",
         "yaxis": "y"
        },
        {
         "alignmentgroup": "True",
         "hovertemplate": "Método=%{x}<br>Classificação Média=%{y}<extra></extra>",
         "legendgroup": "CDT",
         "marker": {
          "color": "#00cc96"
         },
         "name": "CDT",
         "notched": false,
         "offsetgroup": "CDT",
         "orientation": "v",
         "showlegend": true,
         "type": "box",
         "x": [
          "CDT",
          "CDT",
          "CDT",
          "CDT",
          "CDT",
          "CDT",
          "CDT",
          "CDT",
          "CDT",
          "CDT",
          "CDT",
          "CDT",
          "CDT",
          "CDT",
          "CDT",
          "CDT",
          "CDT",
          "CDT",
          "CDT",
          "CDT",
          "CDT",
          "CDT",
          "CDT",
          "CDT",
          "CDT",
          "CDT",
          "CDT",
          "CDT",
          "CDT",
          "CDT",
          "CDT",
          "CDT",
          "CDT",
          "CDT",
          "CDT",
          "CDT",
          "CDT",
          "CDT",
          "CDT",
          "CDT",
          "CDT",
          "CDT",
          "CDT",
          "CDT",
          "CDT",
          "CDT",
          "CDT",
          "CDT",
          "CDT",
          "CDT",
          "CDT",
          "CDT",
          "CDT",
          "CDT",
          "CDT",
          "CDT",
          "CDT",
          "CDT",
          "CDT",
          "CDT",
          "CDT",
          "CDT",
          "CDT",
          "CDT",
          "CDT",
          "CDT",
          "CDT",
          "CDT",
          "CDT",
          "CDT",
          "CDT",
          "CDT",
          "CDT",
          "CDT",
          "CDT",
          "CDT",
          "CDT",
          "CDT",
          "CDT",
          "CDT",
          "CDT",
          "CDT",
          "CDT",
          "CDT",
          "CDT",
          "CDT",
          "CDT",
          "CDT",
          "CDT",
          "CDT",
          "CDT",
          "CDT",
          "CDT",
          "CDT",
          "CDT",
          "CDT",
          "CDT",
          "CDT",
          "CDT",
          "CDT",
          "CDT",
          "CDT",
          "CDT",
          "CDT",
          "CDT",
          "CDT",
          "CDT",
          "CDT",
          "CDT",
          "CDT",
          "CDT",
          "CDT",
          "CDT",
          "CDT",
          "CDT",
          "CDT",
          "CDT",
          "CDT",
          "CDT",
          "CDT",
          "CDT",
          "CDT",
          "CDT",
          "CDT",
          "CDT",
          "CDT",
          "CDT",
          "CDT",
          "CDT",
          "CDT",
          "CDT",
          "CDT",
          "CDT",
          "CDT",
          "CDT",
          "CDT",
          "CDT",
          "CDT",
          "CDT",
          "CDT",
          "CDT",
          "CDT",
          "CDT",
          "CDT",
          "CDT",
          "CDT",
          "CDT",
          "CDT",
          "CDT",
          "CDT",
          "CDT",
          "CDT",
          "CDT",
          "CDT",
          "CDT",
          "CDT",
          "CDT",
          "CDT",
          "CDT",
          "CDT",
          "CDT",
          "CDT",
          "CDT",
          "CDT",
          "CDT",
          "CDT",
          "CDT",
          "CDT",
          "CDT",
          "CDT",
          "CDT",
          "CDT",
          "CDT",
          "CDT",
          "CDT",
          "CDT",
          "CDT",
          "CDT",
          "CDT",
          "CDT",
          "CDT",
          "CDT",
          "CDT",
          "CDT",
          "CDT",
          "CDT",
          "CDT",
          "CDT",
          "CDT",
          "CDT",
          "CDT",
          "CDT",
          "CDT",
          "CDT",
          "CDT",
          "CDT",
          "CDT",
          "CDT",
          "CDT",
          "CDT"
         ],
         "x0": " ",
         "xaxis": "x",
         "y": {
          "bdata": "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",
          "dtype": "f8"
         },
         "y0": " ",
         "yaxis": "y"
        },
        {
         "alignmentgroup": "True",
         "hovertemplate": "Método=%{x}<br>Classificação Média=%{y}<extra></extra>",
         "legendgroup": "WRS",
         "marker": {
          "color": "#ab63fa"
         },
         "name": "WRS",
         "notched": false,
         "offsetgroup": "WRS",
         "orientation": "v",
         "showlegend": true,
         "type": "box",
         "x": [
          "WRS",
          "WRS",
          "WRS",
          "WRS",
          "WRS",
          "WRS",
          "WRS",
          "WRS",
          "WRS",
          "WRS",
          "WRS",
          "WRS",
          "WRS",
          "WRS",
          "WRS",
          "WRS",
          "WRS",
          "WRS",
          "WRS",
          "WRS",
          "WRS",
          "WRS",
          "WRS",
          "WRS",
          "WRS",
          "WRS",
          "WRS",
          "WRS",
          "WRS",
          "WRS",
          "WRS",
          "WRS",
          "WRS",
          "WRS",
          "WRS",
          "WRS",
          "WRS",
          "WRS",
          "WRS",
          "WRS",
          "WRS",
          "WRS",
          "WRS",
          "WRS",
          "WRS",
          "WRS",
          "WRS",
          "WRS",
          "WRS",
          "WRS",
          "WRS",
          "WRS",
          "WRS",
          "WRS",
          "WRS",
          "WRS",
          "WRS",
          "WRS",
          "WRS",
          "WRS",
          "WRS",
          "WRS",
          "WRS",
          "WRS",
          "WRS",
          "WRS",
          "WRS",
          "WRS",
          "WRS",
          "WRS",
          "WRS",
          "WRS",
          "WRS",
          "WRS",
          "WRS",
          "WRS",
          "WRS",
          "WRS",
          "WRS",
          "WRS",
          "WRS",
          "WRS",
          "WRS",
          "WRS",
          "WRS",
          "WRS",
          "WRS",
          "WRS",
          "WRS",
          "WRS",
          "WRS",
          "WRS",
          "WRS",
          "WRS",
          "WRS",
          "WRS",
          "WRS",
          "WRS",
          "WRS",
          "WRS",
          "WRS",
          "WRS",
          "WRS",
          "WRS",
          "WRS",
          "WRS",
          "WRS",
          "WRS",
          "WRS",
          "WRS",
          "WRS",
          "WRS",
          "WRS",
          "WRS",
          "WRS",
          "WRS",
          "WRS",
          "WRS",
          "WRS",
          "WRS",
          "WRS",
          "WRS",
          "WRS",
          "WRS",
          "WRS",
          "WRS",
          "WRS",
          "WRS",
          "WRS",
          "WRS",
          "WRS",
          "WRS",
          "WRS",
          "WRS",
          "WRS",
          "WRS",
          "WRS",
          "WRS",
          "WRS",
          "WRS",
          "WRS",
          "WRS",
          "WRS",
          "WRS",
          "WRS",
          "WRS",
          "WRS",
          "WRS",
          "WRS",
          "WRS",
          "WRS",
          "WRS",
          "WRS",
          "WRS",
          "WRS",
          "WRS",
          "WRS",
          "WRS",
          "WRS",
          "WRS",
          "WRS",
          "WRS",
          "WRS",
          "WRS",
          "WRS",
          "WRS",
          "WRS",
          "WRS",
          "WRS",
          "WRS",
          "WRS",
          "WRS",
          "WRS",
          "WRS",
          "WRS",
          "WRS",
          "WRS",
          "WRS",
          "WRS",
          "WRS",
          "WRS",
          "WRS",
          "WRS",
          "WRS",
          "WRS",
          "WRS",
          "WRS",
          "WRS",
          "WRS",
          "WRS",
          "WRS",
          "WRS",
          "WRS",
          "WRS",
          "WRS",
          "WRS",
          "WRS",
          "WRS",
          "WRS",
          "WRS"
         ],
         "x0": " ",
         "xaxis": "x",
         "y": {
          "bdata": "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",
          "dtype": "f8"
         },
         "y0": " ",
         "yaxis": "y"
        },
        {
         "alignmentgroup": "True",
         "hovertemplate": "Método=%{x}<br>Classificação Média=%{y}<extra></extra>",
         "legendgroup": "BASELINE",
         "marker": {
          "color": "#FFA15A"
         },
         "name": "BASELINE",
         "notched": false,
         "offsetgroup": "BASELINE",
         "orientation": "v",
         "showlegend": true,
         "type": "box",
         "x": [
          "BASELINE",
          "BASELINE",
          "BASELINE",
          "BASELINE",
          "BASELINE",
          "BASELINE",
          "BASELINE",
          "BASELINE",
          "BASELINE",
          "BASELINE",
          "BASELINE",
          "BASELINE",
          "BASELINE",
          "BASELINE",
          "BASELINE",
          "BASELINE",
          "BASELINE",
          "BASELINE",
          "BASELINE",
          "BASELINE",
          "BASELINE",
          "BASELINE",
          "BASELINE",
          "BASELINE",
          "BASELINE",
          "BASELINE",
          "BASELINE",
          "BASELINE",
          "BASELINE",
          "BASELINE",
          "BASELINE",
          "BASELINE",
          "BASELINE",
          "BASELINE",
          "BASELINE",
          "BASELINE",
          "BASELINE",
          "BASELINE",
          "BASELINE",
          "BASELINE",
          "BASELINE",
          "BASELINE",
          "BASELINE",
          "BASELINE",
          "BASELINE",
          "BASELINE",
          "BASELINE",
          "BASELINE",
          "BASELINE",
          "BASELINE",
          "BASELINE",
          "BASELINE",
          "BASELINE",
          "BASELINE",
          "BASELINE",
          "BASELINE",
          "BASELINE",
          "BASELINE",
          "BASELINE",
          "BASELINE",
          "BASELINE",
          "BASELINE",
          "BASELINE",
          "BASELINE",
          "BASELINE",
          "BASELINE",
          "BASELINE",
          "BASELINE",
          "BASELINE",
          "BASELINE",
          "BASELINE",
          "BASELINE",
          "BASELINE",
          "BASELINE",
          "BASELINE",
          "BASELINE",
          "BASELINE",
          "BASELINE",
          "BASELINE",
          "BASELINE",
          "BASELINE",
          "BASELINE",
          "BASELINE",
          "BASELINE",
          "BASELINE",
          "BASELINE",
          "BASELINE",
          "BASELINE",
          "BASELINE",
          "BASELINE",
          "BASELINE",
          "BASELINE",
          "BASELINE",
          "BASELINE",
          "BASELINE",
          "BASELINE",
          "BASELINE",
          "BASELINE",
          "BASELINE",
          "BASELINE",
          "BASELINE",
          "BASELINE",
          "BASELINE",
          "BASELINE",
          "BASELINE",
          "BASELINE",
          "BASELINE",
          "BASELINE",
          "BASELINE",
          "BASELINE",
          "BASELINE",
          "BASELINE",
          "BASELINE",
          "BASELINE",
          "BASELINE",
          "BASELINE",
          "BASELINE",
          "BASELINE",
          "BASELINE",
          "BASELINE",
          "BASELINE",
          "BASELINE",
          "BASELINE",
          "BASELINE",
          "BASELINE",
          "BASELINE",
          "BASELINE",
          "BASELINE",
          "BASELINE",
          "BASELINE",
          "BASELINE",
          "BASELINE",
          "BASELINE",
          "BASELINE",
          "BASELINE",
          "BASELINE",
          "BASELINE",
          "BASELINE",
          "BASELINE",
          "BASELINE",
          "BASELINE",
          "BASELINE",
          "BASELINE",
          "BASELINE",
          "BASELINE",
          "BASELINE",
          "BASELINE",
          "BASELINE",
          "BASELINE",
          "BASELINE",
          "BASELINE",
          "BASELINE",
          "BASELINE",
          "BASELINE",
          "BASELINE",
          "BASELINE",
          "BASELINE",
          "BASELINE",
          "BASELINE",
          "BASELINE",
          "BASELINE",
          "BASELINE",
          "BASELINE",
          "BASELINE",
          "BASELINE",
          "BASELINE",
          "BASELINE",
          "BASELINE",
          "BASELINE",
          "BASELINE",
          "BASELINE",
          "BASELINE",
          "BASELINE",
          "BASELINE",
          "BASELINE",
          "BASELINE",
          "BASELINE",
          "BASELINE",
          "BASELINE",
          "BASELINE",
          "BASELINE",
          "BASELINE",
          "BASELINE",
          "BASELINE",
          "BASELINE",
          "BASELINE",
          "BASELINE",
          "BASELINE",
          "BASELINE",
          "BASELINE",
          "BASELINE",
          "BASELINE",
          "BASELINE",
          "BASELINE",
          "BASELINE",
          "BASELINE",
          "BASELINE",
          "BASELINE",
          "BASELINE",
          "BASELINE"
         ],
         "x0": " ",
         "xaxis": "x",
         "y": {
          "bdata": "FK5H4XoU5j+4HoXrUbjmP65H4XoUruc/k18s+cWS5z+CThvotIHmP/YoXI/C9eg/ZmZmZmZm5j/UBjptoNPmP6cNdNpAp+U/S36x5BdL5j+dNtBpA53mPwAAAAAAAOg/XI/C9Shc5z8wlvxiyS/mPxEREREREek/FK5H4XoU5j/v7u7u7u7mP8kvlvxiyec/jCW/WPKL5T+TXyz5xZLnP+UXS36x5Oc/AAAAAAAA6D93d3d3d3fnP7HkF0t+seQ/VVVVVVVV5T+TXyz5xZLnP22g0wY6beg/AAAAAAAA6D8fhetRuB7lP1yPwvUoXOc/nTbQaQOd5j8s+cWSXyzpP0t+seQXS+Y/ZmZmZmZm5j8b6LSBThvoP83MzMzMzOQ/3t3d3d3d5T9cj8L1KFznPzptoNMGOuU/pw102kCn5T8RERERERHpP3sUrkfheuQ/vLu7u7u74z+nDXTaQKflPxvotIFOG+g/UrgehetR6D+uR+F6FK7nP4mIiIiIiOg/k18s+cWS5z8b6LSBThvoP4wlv1jyi+U/d3d3d3d35z+uR+F6FK7nP6cNdNpAp+U/+cWSXyz55T+W/GLJL5bkP1VVVVVVVeU/uB6F61G45j8wlvxiyS/mP+UXS36x5Oc/w/UoXI/C5T9VVVVVVVXlP8P1KFyPwuU/9ihcj8L16D8DnTbQaQPlPylcj8L1KOQ/G+i0gU4b6D830GkDnTboP1VVVVVVVeU/H4XrUbge5T9xPQrXo3DlP1yPwvUoXOc/G+i0gU4b6D93d3d3d3fnP/nFkl8s+eU/rkfhehSu5z+/WPKLJb/oP1yPwvUoXOc/k18s+cWS5z8UrkfhehTmP4JOG+i0geY/AAAAAAAA6D+amZmZmZnpP0jhehSuR+k/UrgehetR6D+kcD0K16PoP0REREREROQ/exSuR+F65D+kcD0K16PoP4wlv1jyi+U/ERERERER6T+amZmZmZnpPx+F61G4HuU/Om2g0wY65T/2KFyPwvXoPyz5xZJfLOk/A5020GkD5T9qA5020GnjP5NfLPnFkuc/nTbQaQOd5j9ERERERETkP2oDnTbQaeM/8oslv1jy4z/yiyW/WPLjP1K4HoXrUeg/ERERERER6T+JiIiIiIjoP7HkF0t+seQ/YCz5xZJf5D97FK5H4XrkP+xRuB6F6+k/v1jyiyW/6D+1gU4b6LTpPzfQaQOdNug/rkfhehSu5z8b6LSBThvoP5qZmZmZmek/vLu7u7u74z+JiIiIiIjoP7WBThvotOk/9ihcj8L16D8zMzMzMzPjPw502kCnDeQ/GEt+seQX4z+x5BdLfrHkPzptoNMGOuU/RERERERE5D8OdNpApw3kP+F6FK5H4eI/mpmZmZmZ6T97FK5H4XrkP+UXS36x5Oc/hetRuB6F4z/yiyW/WPLjP5qZmZmZmek/4XoUrkfh4j9+seQXS37pP7HkF0t+seQ/2kCnDXTa6D+JiIiIiIjoPxEREREREek/6LSBThvo5D8AAAAAAADoPzptoNMGOuU/q6qqqqqq4j/2KFyPwvXoP+i0gU4b6OQ/8oslv1jy4z+PwvUoXI/qP79Y8oslv+g/WfKLJb9Y4j9I4XoUrkfpPw502kCnDeQ/iYiIiIiI6D/9YskvlvziP08b6LSBTuM/exSuR+F65D/2KFyPwvXoP+i0gU4b6OQ/ERERERER6T/2KFyPwvXoP4mIiIiIiOg/IiIiIiIi6j+F61G4HoXjP+xRuB6F6+k/oNMGOm2g4z+amZmZmZnhP3sUrkfheuQ/hetRuB6F4z8zMzMzMzPjP5b8YskvluQ/v1jyiyW/6D8YS36x5BfrP36x5BdLfuk/TxvotIFO4z/sUbgehevpPxEREREREek/mpmZmZmZ6T+PwvUoXI/qP9BpA5020Ok/2kCnDXTa6D9SuB6F61HoP/1iyS+W/Oo/q6qqqqqq4j/QaQOdNtDpP/1iyS+W/OI/MzMzMzMz4z+1gU4b6LTpPxhLfrHkF+s/BzptoNMG6j/sUbgehevpP+xRuB6F6+k/PQrXo3A94j9I4XoUrkfpP4/C9Shcj+o/j8L1KFyP6j9Z8oslv1jiPwc6baDTBuo/MzMzMzMz4z89CtejcD3qPw==",
          "dtype": "f8"
         },
         "y0": " ",
         "yaxis": "y"
        },
        {
         "alignmentgroup": "True",
         "hovertemplate": "Método=%{x}<br>Classificação Média=%{y}<extra></extra>",
         "legendgroup": "IKS",
         "marker": {
          "color": "#19d3f3"
         },
         "name": "IKS",
         "notched": false,
         "offsetgroup": "IKS",
         "orientation": "v",
         "showlegend": true,
         "type": "box",
         "x": [
          "IKS",
          "IKS",
          "IKS",
          "IKS",
          "IKS",
          "IKS",
          "IKS",
          "IKS",
          "IKS",
          "IKS",
          "IKS",
          "IKS",
          "IKS",
          "IKS",
          "IKS",
          "IKS",
          "IKS",
          "IKS",
          "IKS",
          "IKS",
          "IKS",
          "IKS",
          "IKS",
          "IKS",
          "IKS",
          "IKS",
          "IKS",
          "IKS",
          "IKS",
          "IKS",
          "IKS",
          "IKS",
          "IKS",
          "IKS",
          "IKS",
          "IKS",
          "IKS",
          "IKS",
          "IKS",
          "IKS",
          "IKS",
          "IKS",
          "IKS",
          "IKS",
          "IKS",
          "IKS",
          "IKS",
          "IKS",
          "IKS",
          "IKS",
          "IKS",
          "IKS",
          "IKS",
          "IKS",
          "IKS",
          "IKS",
          "IKS",
          "IKS",
          "IKS",
          "IKS",
          "IKS",
          "IKS",
          "IKS",
          "IKS",
          "IKS",
          "IKS",
          "IKS",
          "IKS",
          "IKS",
          "IKS",
          "IKS",
          "IKS",
          "IKS",
          "IKS",
          "IKS",
          "IKS",
          "IKS",
          "IKS",
          "IKS",
          "IKS",
          "IKS",
          "IKS",
          "IKS",
          "IKS",
          "IKS",
          "IKS",
          "IKS",
          "IKS",
          "IKS",
          "IKS",
          "IKS",
          "IKS",
          "IKS",
          "IKS",
          "IKS",
          "IKS",
          "IKS",
          "IKS",
          "IKS",
          "IKS",
          "IKS",
          "IKS",
          "IKS",
          "IKS",
          "IKS",
          "IKS",
          "IKS",
          "IKS",
          "IKS",
          "IKS",
          "IKS",
          "IKS",
          "IKS",
          "IKS",
          "IKS",
          "IKS",
          "IKS",
          "IKS",
          "IKS",
          "IKS",
          "IKS",
          "IKS",
          "IKS",
          "IKS",
          "IKS",
          "IKS",
          "IKS",
          "IKS",
          "IKS",
          "IKS",
          "IKS",
          "IKS",
          "IKS",
          "IKS",
          "IKS",
          "IKS",
          "IKS",
          "IKS",
          "IKS",
          "IKS",
          "IKS",
          "IKS",
          "IKS",
          "IKS",
          "IKS",
          "IKS",
          "IKS",
          "IKS",
          "IKS",
          "IKS",
          "IKS",
          "IKS",
          "IKS",
          "IKS",
          "IKS",
          "IKS",
          "IKS",
          "IKS",
          "IKS",
          "IKS",
          "IKS",
          "IKS",
          "IKS",
          "IKS",
          "IKS",
          "IKS",
          "IKS",
          "IKS",
          "IKS",
          "IKS",
          "IKS",
          "IKS",
          "IKS",
          "IKS",
          "IKS",
          "IKS",
          "IKS",
          "IKS",
          "IKS",
          "IKS",
          "IKS",
          "IKS",
          "IKS",
          "IKS",
          "IKS",
          "IKS",
          "IKS",
          "IKS",
          "IKS",
          "IKS",
          "IKS",
          "IKS",
          "IKS",
          "IKS",
          "IKS",
          "IKS",
          "IKS",
          "IKS",
          "IKS",
          "IKS"
         ],
         "x0": " ",
         "xaxis": "x",
         "y": {
          "bdata": "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",
          "dtype": "f8"
         },
         "y0": " ",
         "yaxis": "y"
        }
       ],
       "layout": {
        "boxmode": "overlay",
        "legend": {
         "title": {
          "text": "Método"
         },
         "tracegroupgap": 0
        },
        "template": {
         "data": {
          "bar": [
           {
            "error_x": {
             "color": "#2a3f5f"
            },
            "error_y": {
             "color": "#2a3f5f"
            },
            "marker": {
             "line": {
              "color": "#E5ECF6",
              "width": 0.5
             },
             "pattern": {
              "fillmode": "overlay",
              "size": 10,
              "solidity": 0.2
             }
            },
            "type": "bar"
           }
          ],
          "barpolar": [
           {
            "marker": {
             "line": {
              "color": "#E5ECF6",
              "width": 0.5
             },
             "pattern": {
              "fillmode": "overlay",
              "size": 10,
              "solidity": 0.2
             }
            },
            "type": "barpolar"
           }
          ],
          "carpet": [
           {
            "aaxis": {
             "endlinecolor": "#2a3f5f",
             "gridcolor": "white",
             "linecolor": "white",
             "minorgridcolor": "white",
             "startlinecolor": "#2a3f5f"
            },
            "baxis": {
             "endlinecolor": "#2a3f5f",
             "gridcolor": "white",
             "linecolor": "white",
             "minorgridcolor": "white",
             "startlinecolor": "#2a3f5f"
            },
            "type": "carpet"
           }
          ],
          "choropleth": [
           {
            "colorbar": {
             "outlinewidth": 0,
             "ticks": ""
            },
            "type": "choropleth"
           }
          ],
          "contour": [
           {
            "colorbar": {
             "outlinewidth": 0,
             "ticks": ""
            },
            "colorscale": [
             [
              0,
              "#0d0887"
             ],
             [
              0.1111111111111111,
              "#46039f"
             ],
             [
              0.2222222222222222,
              "#7201a8"
             ],
             [
              0.3333333333333333,
              "#9c179e"
             ],
             [
              0.4444444444444444,
              "#bd3786"
             ],
             [
              0.5555555555555556,
              "#d8576b"
             ],
             [
              0.6666666666666666,
              "#ed7953"
             ],
             [
              0.7777777777777778,
              "#fb9f3a"
             ],
             [
              0.8888888888888888,
              "#fdca26"
             ],
             [
              1,
              "#f0f921"
             ]
            ],
            "type": "contour"
           }
          ],
          "contourcarpet": [
           {
            "colorbar": {
             "outlinewidth": 0,
             "ticks": ""
            },
            "type": "contourcarpet"
           }
          ],
          "heatmap": [
           {
            "colorbar": {
             "outlinewidth": 0,
             "ticks": ""
            },
            "colorscale": [
             [
              0,
              "#0d0887"
             ],
             [
              0.1111111111111111,
              "#46039f"
             ],
             [
              0.2222222222222222,
              "#7201a8"
             ],
             [
              0.3333333333333333,
              "#9c179e"
             ],
             [
              0.4444444444444444,
              "#bd3786"
             ],
             [
              0.5555555555555556,
              "#d8576b"
             ],
             [
              0.6666666666666666,
              "#ed7953"
             ],
             [
              0.7777777777777778,
              "#fb9f3a"
             ],
             [
              0.8888888888888888,
              "#fdca26"
             ],
             [
              1,
              "#f0f921"
             ]
            ],
            "type": "heatmap"
           }
          ],
          "histogram": [
           {
            "marker": {
             "pattern": {
              "fillmode": "overlay",
              "size": 10,
              "solidity": 0.2
             }
            },
            "type": "histogram"
           }
          ],
          "histogram2d": [
           {
            "colorbar": {
             "outlinewidth": 0,
             "ticks": ""
            },
            "colorscale": [
             [
              0,
              "#0d0887"
             ],
             [
              0.1111111111111111,
              "#46039f"
             ],
             [
              0.2222222222222222,
              "#7201a8"
             ],
             [
              0.3333333333333333,
              "#9c179e"
             ],
             [
              0.4444444444444444,
              "#bd3786"
             ],
             [
              0.5555555555555556,
              "#d8576b"
             ],
             [
              0.6666666666666666,
              "#ed7953"
             ],
             [
              0.7777777777777778,
              "#fb9f3a"
             ],
             [
              0.8888888888888888,
              "#fdca26"
             ],
             [
              1,
              "#f0f921"
             ]
            ],
            "type": "histogram2d"
           }
          ],
          "histogram2dcontour": [
           {
            "colorbar": {
             "outlinewidth": 0,
             "ticks": ""
            },
            "colorscale": [
             [
              0,
              "#0d0887"
             ],
             [
              0.1111111111111111,
              "#46039f"
             ],
             [
              0.2222222222222222,
              "#7201a8"
             ],
             [
              0.3333333333333333,
              "#9c179e"
             ],
             [
              0.4444444444444444,
              "#bd3786"
             ],
             [
              0.5555555555555556,
              "#d8576b"
             ],
             [
              0.6666666666666666,
              "#ed7953"
             ],
             [
              0.7777777777777778,
              "#fb9f3a"
             ],
             [
              0.8888888888888888,
              "#fdca26"
             ],
             [
              1,
              "#f0f921"
             ]
            ],
            "type": "histogram2dcontour"
           }
          ],
          "mesh3d": [
           {
            "colorbar": {
             "outlinewidth": 0,
             "ticks": ""
            },
            "type": "mesh3d"
           }
          ],
          "parcoords": [
           {
            "line": {
             "colorbar": {
              "outlinewidth": 0,
              "ticks": ""
             }
            },
            "type": "parcoords"
           }
          ],
          "pie": [
           {
            "automargin": true,
            "type": "pie"
           }
          ],
          "scatter": [
           {
            "fillpattern": {
             "fillmode": "overlay",
             "size": 10,
             "solidity": 0.2
            },
            "type": "scatter"
           }
          ],
          "scatter3d": [
           {
            "line": {
             "colorbar": {
              "outlinewidth": 0,
              "ticks": ""
             }
            },
            "marker": {
             "colorbar": {
              "outlinewidth": 0,
              "ticks": ""
             }
            },
            "type": "scatter3d"
           }
          ],
          "scattercarpet": [
           {
            "marker": {
             "colorbar": {
              "outlinewidth": 0,
              "ticks": ""
             }
            },
            "type": "scattercarpet"
           }
          ],
          "scattergeo": [
           {
            "marker": {
             "colorbar": {
              "outlinewidth": 0,
              "ticks": ""
             }
            },
            "type": "scattergeo"
           }
          ],
          "scattergl": [
           {
            "marker": {
             "colorbar": {
              "outlinewidth": 0,
              "ticks": ""
             }
            },
            "type": "scattergl"
           }
          ],
          "scattermap": [
           {
            "marker": {
             "colorbar": {
              "outlinewidth": 0,
              "ticks": ""
             }
            },
            "type": "scattermap"
           }
          ],
          "scattermapbox": [
           {
            "marker": {
             "colorbar": {
              "outlinewidth": 0,
              "ticks": ""
             }
            },
            "type": "scattermapbox"
           }
          ],
          "scatterpolar": [
           {
            "marker": {
             "colorbar": {
              "outlinewidth": 0,
              "ticks": ""
             }
            },
            "type": "scatterpolar"
           }
          ],
          "scatterpolargl": [
           {
            "marker": {
             "colorbar": {
              "outlinewidth": 0,
              "ticks": ""
             }
            },
            "type": "scatterpolargl"
           }
          ],
          "scatterternary": [
           {
            "marker": {
             "colorbar": {
              "outlinewidth": 0,
              "ticks": ""
             }
            },
            "type": "scatterternary"
           }
          ],
          "surface": [
           {
            "colorbar": {
             "outlinewidth": 0,
             "ticks": ""
            },
            "colorscale": [
             [
              0,
              "#0d0887"
             ],
             [
              0.1111111111111111,
              "#46039f"
             ],
             [
              0.2222222222222222,
              "#7201a8"
             ],
             [
              0.3333333333333333,
              "#9c179e"
             ],
             [
              0.4444444444444444,
              "#bd3786"
             ],
             [
              0.5555555555555556,
              "#d8576b"
             ],
             [
              0.6666666666666666,
              "#ed7953"
             ],
             [
              0.7777777777777778,
              "#fb9f3a"
             ],
             [
              0.8888888888888888,
              "#fdca26"
             ],
             [
              1,
              "#f0f921"
             ]
            ],
            "type": "surface"
           }
          ],
          "table": [
           {
            "cells": {
             "fill": {
              "color": "#EBF0F8"
             },
             "line": {
              "color": "white"
             }
            },
            "header": {
             "fill": {
              "color": "#C8D4E3"
             },
             "line": {
              "color": "white"
             }
            },
            "type": "table"
           }
          ]
         },
         "layout": {
          "annotationdefaults": {
           "arrowcolor": "#2a3f5f",
           "arrowhead": 0,
           "arrowwidth": 1
          },
          "autotypenumbers": "strict",
          "coloraxis": {
           "colorbar": {
            "outlinewidth": 0,
            "ticks": ""
           }
          },
          "colorscale": {
           "diverging": [
            [
             0,
             "#8e0152"
            ],
            [
             0.1,
             "#c51b7d"
            ],
            [
             0.2,
             "#de77ae"
            ],
            [
             0.3,
             "#f1b6da"
            ],
            [
             0.4,
             "#fde0ef"
            ],
            [
             0.5,
             "#f7f7f7"
            ],
            [
             0.6,
             "#e6f5d0"
            ],
            [
             0.7,
             "#b8e186"
            ],
            [
             0.8,
             "#7fbc41"
            ],
            [
             0.9,
             "#4d9221"
            ],
            [
             1,
             "#276419"
            ]
           ],
           "sequential": [
            [
             0,
             "#0d0887"
            ],
            [
             0.1111111111111111,
             "#46039f"
            ],
            [
             0.2222222222222222,
             "#7201a8"
            ],
            [
             0.3333333333333333,
             "#9c179e"
            ],
            [
             0.4444444444444444,
             "#bd3786"
            ],
            [
             0.5555555555555556,
             "#d8576b"
            ],
            [
             0.6666666666666666,
             "#ed7953"
            ],
            [
             0.7777777777777778,
             "#fb9f3a"
            ],
            [
             0.8888888888888888,
             "#fdca26"
            ],
            [
             1,
             "#f0f921"
            ]
           ],
           "sequentialminus": [
            [
             0,
             "#0d0887"
            ],
            [
             0.1111111111111111,
             "#46039f"
            ],
            [
             0.2222222222222222,
             "#7201a8"
            ],
            [
             0.3333333333333333,
             "#9c179e"
            ],
            [
             0.4444444444444444,
             "#bd3786"
            ],
            [
             0.5555555555555556,
             "#d8576b"
            ],
            [
             0.6666666666666666,
             "#ed7953"
            ],
            [
             0.7777777777777778,
             "#fb9f3a"
            ],
            [
             0.8888888888888888,
             "#fdca26"
            ],
            [
             1,
             "#f0f921"
            ]
           ]
          },
          "colorway": [
           "#636efa",
           "#EF553B",
           "#00cc96",
           "#ab63fa",
           "#FFA15A",
           "#19d3f3",
           "#FF6692",
           "#B6E880",
           "#FF97FF",
           "#FECB52"
          ],
          "font": {
           "color": "#2a3f5f"
          },
          "geo": {
           "bgcolor": "white",
           "lakecolor": "white",
           "landcolor": "#E5ECF6",
           "showlakes": true,
           "showland": true,
           "subunitcolor": "white"
          },
          "hoverlabel": {
           "align": "left"
          },
          "hovermode": "closest",
          "mapbox": {
           "style": "light"
          },
          "paper_bgcolor": "white",
          "plot_bgcolor": "#E5ECF6",
          "polar": {
           "angularaxis": {
            "gridcolor": "white",
            "linecolor": "white",
            "ticks": ""
           },
           "bgcolor": "#E5ECF6",
           "radialaxis": {
            "gridcolor": "white",
            "linecolor": "white",
            "ticks": ""
           }
          },
          "scene": {
           "xaxis": {
            "backgroundcolor": "#E5ECF6",
            "gridcolor": "white",
            "gridwidth": 2,
            "linecolor": "white",
            "showbackground": true,
            "ticks": "",
            "zerolinecolor": "white"
           },
           "yaxis": {
            "backgroundcolor": "#E5ECF6",
            "gridcolor": "white",
            "gridwidth": 2,
            "linecolor": "white",
            "showbackground": true,
            "ticks": "",
            "zerolinecolor": "white"
           },
           "zaxis": {
            "backgroundcolor": "#E5ECF6",
            "gridcolor": "white",
            "gridwidth": 2,
            "linecolor": "white",
            "showbackground": true,
            "ticks": "",
            "zerolinecolor": "white"
           }
          },
          "shapedefaults": {
           "line": {
            "color": "#2a3f5f"
           }
          },
          "ternary": {
           "aaxis": {
            "gridcolor": "white",
            "linecolor": "white",
            "ticks": ""
           },
           "baxis": {
            "gridcolor": "white",
            "linecolor": "white",
            "ticks": ""
           },
           "bgcolor": "#E5ECF6",
           "caxis": {
            "gridcolor": "white",
            "linecolor": "white",
            "ticks": ""
           }
          },
          "title": {
           "x": 0.05
          },
          "xaxis": {
           "automargin": true,
           "gridcolor": "white",
           "linecolor": "white",
           "ticks": "",
           "title": {
            "standoff": 15
           },
           "zerolinecolor": "white",
           "zerolinewidth": 2
          },
          "yaxis": {
           "automargin": true,
           "gridcolor": "white",
           "linecolor": "white",
           "ticks": "",
           "title": {
            "standoff": 15
           },
           "zerolinecolor": "white",
           "zerolinewidth": 2
          }
         }
        },
        "title": {
         "text": "Artificial"
        },
        "xaxis": {
         "anchor": "y",
         "categoryarray": [
          "TOPLINE",
          "IBDD",
          "CDT",
          "WRS",
          "BASELINE",
          "IKS"
         ],
         "categoryorder": "array",
         "domain": [
          0,
          1
         ],
         "title": {
          "text": "Método"
         }
        },
        "yaxis": {
         "anchor": "x",
         "domain": [
          0,
          1
         ],
         "title": {
          "text": "Classificação Média"
         }
        }
       }
      }
     },
     "metadata": {},
     "output_type": "display_data"
    }
   ],
   "source": [
    "# Agrupar por 'class_distribution' e 'method' e calcular a média de 'classification'\n",
    "df_agg = df_artificial.groupby(['class_distribution', 'method']).agg({\n",
    "    'classification': 'mean'\n",
    "}).reset_index()\n",
    "\n",
    "# Renomear colunas para melhor legibilidade\n",
    "df_agg.columns = ['class_distribution', 'method', 'classification_mean']\n",
    "\n",
    "# Ordenar os métodos pela classificação média\n",
    "ordered_methods = df_agg.groupby('method')['classification_mean'].mean().sort_values(ascending=False).index\n",
    "\n",
    "# Criar o boxplot\n",
    "fig = px.box(df_agg, x='method', y='classification_mean', \n",
    "             title=f\"Artificial\",\n",
    "             category_orders={'method': ordered_methods},\n",
    "             color='method', \n",
    "             labels={'method': 'Método', 'classification_mean': 'Classificação Média'})\n",
    "\n",
    "fig.show()"
   ]
  },
  {
   "cell_type": "markdown",
   "metadata": {},
   "source": [
    "## Normal"
   ]
  },
  {
   "cell_type": "code",
   "execution_count": 69,
   "metadata": {},
   "outputs": [
    {
     "name": "stdout",
     "output_type": "stream",
     "text": [
      "\n",
      "Resumo por Método:\n"
     ]
    },
    {
     "data": {
      "text/html": [
       "<div>\n",
       "<style scoped>\n",
       "    .dataframe tbody tr th:only-of-type {\n",
       "        vertical-align: middle;\n",
       "    }\n",
       "\n",
       "    .dataframe tbody tr th {\n",
       "        vertical-align: top;\n",
       "    }\n",
       "\n",
       "    .dataframe thead th {\n",
       "        text-align: right;\n",
       "    }\n",
       "</style>\n",
       "<table border=\"1\" class=\"dataframe\">\n",
       "  <thead>\n",
       "    <tr style=\"text-align: right;\">\n",
       "      <th></th>\n",
       "      <th>method</th>\n",
       "      <th>time_mean</th>\n",
       "      <th>time_median</th>\n",
       "      <th>classification_mean</th>\n",
       "      <th>classification_median</th>\n",
       "      <th>drifts</th>\n",
       "      <th>false_alarms</th>\n",
       "    </tr>\n",
       "  </thead>\n",
       "  <tbody>\n",
       "    <tr>\n",
       "      <th>0</th>\n",
       "      <td>BASELINE</td>\n",
       "      <td>0.065122</td>\n",
       "      <td>0.063129</td>\n",
       "      <td>0.738967</td>\n",
       "      <td>0.738333</td>\n",
       "      <td>0.0</td>\n",
       "      <td>0.0</td>\n",
       "    </tr>\n",
       "    <tr>\n",
       "      <th>1</th>\n",
       "      <td>CDT</td>\n",
       "      <td>0.227224</td>\n",
       "      <td>0.138005</td>\n",
       "      <td>0.767983</td>\n",
       "      <td>0.766667</td>\n",
       "      <td>1.0</td>\n",
       "      <td>0.0</td>\n",
       "    </tr>\n",
       "    <tr>\n",
       "      <th>2</th>\n",
       "      <td>IBDD</td>\n",
       "      <td>0.081400</td>\n",
       "      <td>0.070762</td>\n",
       "      <td>0.792883</td>\n",
       "      <td>0.795000</td>\n",
       "      <td>8.0</td>\n",
       "      <td>7.0</td>\n",
       "    </tr>\n",
       "    <tr>\n",
       "      <th>3</th>\n",
       "      <td>IKS</td>\n",
       "      <td>0.109803</td>\n",
       "      <td>0.108883</td>\n",
       "      <td>0.768933</td>\n",
       "      <td>0.768333</td>\n",
       "      <td>1.0</td>\n",
       "      <td>0.0</td>\n",
       "    </tr>\n",
       "    <tr>\n",
       "      <th>4</th>\n",
       "      <td>TOPLINE</td>\n",
       "      <td>0.066221</td>\n",
       "      <td>0.062435</td>\n",
       "      <td>0.764683</td>\n",
       "      <td>0.766667</td>\n",
       "      <td>1.0</td>\n",
       "      <td>0.0</td>\n",
       "    </tr>\n",
       "    <tr>\n",
       "      <th>5</th>\n",
       "      <td>WRS</td>\n",
       "      <td>0.088275</td>\n",
       "      <td>0.075717</td>\n",
       "      <td>0.782650</td>\n",
       "      <td>0.786667</td>\n",
       "      <td>4.0</td>\n",
       "      <td>3.0</td>\n",
       "    </tr>\n",
       "  </tbody>\n",
       "</table>\n",
       "</div>"
      ],
      "text/plain": [
       "     method  time_mean  time_median  classification_mean  \\\n",
       "0  BASELINE   0.065122     0.063129             0.738967   \n",
       "1       CDT   0.227224     0.138005             0.767983   \n",
       "2      IBDD   0.081400     0.070762             0.792883   \n",
       "3       IKS   0.109803     0.108883             0.768933   \n",
       "4   TOPLINE   0.066221     0.062435             0.764683   \n",
       "5       WRS   0.088275     0.075717             0.782650   \n",
       "\n",
       "   classification_median  drifts  false_alarms  \n",
       "0               0.738333     0.0           0.0  \n",
       "1               0.766667     1.0           0.0  \n",
       "2               0.795000     8.0           7.0  \n",
       "3               0.768333     1.0           0.0  \n",
       "4               0.766667     1.0           0.0  \n",
       "5               0.786667     4.0           3.0  "
      ]
     },
     "execution_count": 69,
     "metadata": {},
     "output_type": "execute_result"
    }
   ],
   "source": [
    "# Agrupar por 'method' e calcular a média e mediana de 'time (s)' e 'classification'\n",
    "method_summary = df_normal.groupby('method').agg({\n",
    "    'time (s)': ['mean', 'median'],\n",
    "    'classification': ['mean', 'median'],\n",
    "    'drifs_detected': 'sum',\n",
    "    'false_alarms': 'sum'\n",
    "}).reset_index()\n",
    "\n",
    "# Renomear colunas para melhor legibilidade\n",
    "method_summary.columns = ['method', 'time_mean', 'time_median', 'classification_mean', 'classification_median', 'drifts', 'false_alarms']\n",
    "\n",
    "# Exibir os resultados\n",
    "print(\"\\nResumo por Método:\")\n",
    "method_summary"
   ]
  },
  {
   "cell_type": "code",
   "execution_count": 70,
   "metadata": {},
   "outputs": [
    {
     "data": {
      "application/vnd.plotly.v1+json": {
       "config": {
        "plotlyServerURL": "https://plot.ly"
       },
       "data": [
        {
         "alignmentgroup": "True",
         "hovertemplate": "Método=%{x}<br>Classificação Média=%{y}<extra></extra>",
         "legendgroup": "IBDD",
         "marker": {
          "color": "#636efa"
         },
         "name": "IBDD",
         "notched": false,
         "offsetgroup": "IBDD",
         "orientation": "v",
         "showlegend": true,
         "type": "box",
         "x": [
          "IBDD",
          "IBDD",
          "IBDD",
          "IBDD",
          "IBDD",
          "IBDD",
          "IBDD",
          "IBDD",
          "IBDD",
          "IBDD",
          "IBDD",
          "IBDD",
          "IBDD",
          "IBDD",
          "IBDD",
          "IBDD",
          "IBDD",
          "IBDD",
          "IBDD",
          "IBDD",
          "IBDD",
          "IBDD",
          "IBDD",
          "IBDD",
          "IBDD",
          "IBDD",
          "IBDD",
          "IBDD",
          "IBDD",
          "IBDD",
          "IBDD",
          "IBDD",
          "IBDD",
          "IBDD",
          "IBDD",
          "IBDD",
          "IBDD",
          "IBDD",
          "IBDD",
          "IBDD",
          "IBDD",
          "IBDD",
          "IBDD",
          "IBDD",
          "IBDD",
          "IBDD",
          "IBDD",
          "IBDD",
          "IBDD",
          "IBDD",
          "IBDD",
          "IBDD",
          "IBDD",
          "IBDD",
          "IBDD",
          "IBDD",
          "IBDD",
          "IBDD",
          "IBDD",
          "IBDD",
          "IBDD",
          "IBDD",
          "IBDD",
          "IBDD",
          "IBDD"
         ],
         "x0": " ",
         "xaxis": "x",
         "y": {
          "bdata": "i0YCvnk16T8iIiIiIiLqP2PJL5b8Yuk/PQrXo3A96j+MJb9Y8ovpP70ta3VM8Og/kl8s+cWS5z8YS36x5BfpPyz5xZJfLOk/BzptoNMG6j+CThvotIHoPyBkqOwwdek/99kFxKbS6D+wBVuwBVvoP1K4HoXrUeg/U7gehetR6D830GkDnTboPwAAAAAAAOg/LiRNqTj76D8dpi63P8joP4fKDlOX2+c/xwQP5on65z9toNMGOm3oPw7mifo3Quk/v1jyiyW/6D8iIiIiIiLoPwrXo3A9Cuk/v1jyiyW/6D/2KFyPwvXoP/YoXI/C9eg/tYFOG+i06T8AAAAAAADoP3d3d3d3d+c/mpmZmZmZ6T+/WPKLJb/oP9QGOm2g0+o/L7c/yFDZ6T8GOm2g0wbqP1jyiyW/WOo/q6qqqqqq6j/E1OX2BxnqPzF1uf1Bhuo/TxvotIFO6z/rUbgehevpP9BpA5020Ok/QDVeukkM6j9JkiRJkiTpP1ryiyW/WOo/PgrXo3A96j9LfrHkF0vqP1tU346HEuo/WvKLJb9Y6j+CThvotIHqP+tRuB6F6+k/xpJfLPnF6j+TXyz5xZLpP7WBThvotOk/BVuwBVuw6T9jyS+W/GLpPyz5xZJfLOk/v1jyiyW/6D89CtejcD3qP/1iyS+W/Oo/7FG4HoXr6T+amZmZmZnpPw==",
          "dtype": "f8"
         },
         "y0": " ",
         "yaxis": "y"
        },
        {
         "alignmentgroup": "True",
         "hovertemplate": "Método=%{x}<br>Classificação Média=%{y}<extra></extra>",
         "legendgroup": "WRS",
         "marker": {
          "color": "#EF553B"
         },
         "name": "WRS",
         "notched": false,
         "offsetgroup": "WRS",
         "orientation": "v",
         "showlegend": true,
         "type": "box",
         "x": [
          "WRS",
          "WRS",
          "WRS",
          "WRS",
          "WRS",
          "WRS",
          "WRS",
          "WRS",
          "WRS",
          "WRS",
          "WRS",
          "WRS",
          "WRS",
          "WRS",
          "WRS",
          "WRS",
          "WRS",
          "WRS",
          "WRS",
          "WRS",
          "WRS",
          "WRS",
          "WRS",
          "WRS",
          "WRS",
          "WRS",
          "WRS",
          "WRS",
          "WRS",
          "WRS",
          "WRS",
          "WRS",
          "WRS",
          "WRS",
          "WRS",
          "WRS",
          "WRS",
          "WRS",
          "WRS",
          "WRS",
          "WRS",
          "WRS",
          "WRS",
          "WRS",
          "WRS",
          "WRS",
          "WRS",
          "WRS",
          "WRS",
          "WRS",
          "WRS",
          "WRS",
          "WRS",
          "WRS",
          "WRS",
          "WRS",
          "WRS",
          "WRS",
          "WRS",
          "WRS",
          "WRS",
          "WRS",
          "WRS",
          "WRS",
          "WRS",
          "WRS",
          "WRS",
          "WRS",
          "WRS",
          "WRS",
          "WRS",
          "WRS",
          "WRS",
          "WRS",
          "WRS",
          "WRS",
          "WRS"
         ],
         "x0": " ",
         "xaxis": "x",
         "y": {
          "bdata": "Y8kvlvxi6T/aQKcNdNroP4mIiIiIiOg/Y8kvlvxi6T9I4XoUrkfpP7WBThvotOk/LPnFkl8s6T/otIFOG+joP1R2mLrc/ug/mNsfZKjs6D9SuB6F61HoP6uqqqqqqug/Y8kvlvxi6T/yiyW/WPLnP4uzD59hV+g/baDTBjpt6D8AAAAAAADoP1TjpZvEIOg/G+i0gU4b6D/LWh0TPJjnP0REREREROg/PVH/Riij5z+9mnhWNBLoP97d3d3d3ec/DnTaQKcN6D8pXI/C9SjoPzfQaQOdNug/vZp4VjQS6D/pbVmrY4LnP7AFW7AFW+g/wvUoXI/C5z+g0wY6baDnP5020GkDneY/rkfhehSu5z830GkDnTboP65H4XoUruc/k18s+cWS5z/QaQOdNtDpPzfQaQOdNug/q6qqqqqq6j89CtejcD3qP6RwPQrXo+g/AAAAAAAA6D9I4XoUrkfpP97d3d3d3ek/qqqqqqqq6j+4HoXrUbjqP2PJL5b8Yuk/PQrXo3A96j/D9Shcj8LpP1K4HoXrUeg/BzptoNMG6j9bVN+OhxLqP/nFkl8s+ek/Rrbz/dR46T/QaQOdNtDpP6nL7Q8yVOo/PgrXo3A96j8HOm2g0wbqP4wlv1jyi+k/BjptoNMG6j902kCnDXTqPzptoNMGOuk/KVyPwvUo6j+1gU4b6LTpP3A9CtejcOk/wRZswRZs6T8wlvxiyS/qP+xRuB6F6+k/xpJfLPnF6j9SuB6F61HoP1nyiyW/WOo/0GkDnTbQ6T8iIiIiIiLqP/1iyS+W/Oo/dNpApw106j8AAAAAAADoPw==",
          "dtype": "f8"
         },
         "y0": " ",
         "yaxis": "y"
        },
        {
         "alignmentgroup": "True",
         "hovertemplate": "Método=%{x}<br>Classificação Média=%{y}<extra></extra>",
         "legendgroup": "CDT",
         "marker": {
          "color": "#00cc96"
         },
         "name": "CDT",
         "notched": false,
         "offsetgroup": "CDT",
         "orientation": "v",
         "showlegend": true,
         "type": "box",
         "x": [
          "CDT",
          "CDT",
          "CDT",
          "CDT",
          "CDT",
          "CDT",
          "CDT",
          "CDT",
          "CDT",
          "CDT",
          "CDT",
          "CDT",
          "CDT",
          "CDT",
          "CDT",
          "CDT",
          "CDT",
          "CDT",
          "CDT",
          "CDT",
          "CDT",
          "CDT",
          "CDT",
          "CDT",
          "CDT",
          "CDT",
          "CDT",
          "CDT",
          "CDT",
          "CDT",
          "CDT",
          "CDT",
          "CDT",
          "CDT",
          "CDT",
          "CDT",
          "CDT",
          "CDT",
          "CDT",
          "CDT",
          "CDT",
          "CDT",
          "CDT",
          "CDT",
          "CDT",
          "CDT",
          "CDT",
          "CDT",
          "CDT",
          "CDT",
          "CDT",
          "CDT",
          "CDT",
          "CDT",
          "CDT",
          "CDT",
          "CDT",
          "CDT",
          "CDT",
          "CDT",
          "CDT",
          "CDT",
          "CDT",
          "CDT",
          "CDT",
          "CDT",
          "CDT",
          "CDT"
         ],
         "x0": " ",
         "xaxis": "x",
         "y": {
          "bdata": "G+i0gU4b6D9I4XoUrkfpP/YoXI/C9eg/2kCnDXTa6D8t+cWSXyzpP2PJL5b8Yuk/VVVVVVVV6T/aQKcNdNroP/UoXI/C9eg/YCz5xZJf6D9hC7ZgC7boP2ELtmALtug/v3k18axo6D8iIiIiIiLqP9gVIPeaC+k/Y8kvlvxi6T/y0k1iEFjpPzivJp4Vjeg/eTXxrGgk6D/8qfHSTWLoP1OX2x9kqOg/gk4b6LSB6D/JL5b8YsnnP91rLiRNqeg/2kCnDXTa6D+zw9Tl9gfpP0REREREROg/AAAAAAAA6D9toNMGOm3oP7WBThvotOk/d3d3d3d35z+uR+F6FK7nP5qZmZmZmek/N9BpA5026D+JiIiIiIjoP3sUrkfheug/2kCnDXTa6D9EREREREToP9pApw102ug/baDTBjpt6D8AAAAAAADoP1O4HoXrUeg/WfKLJb9Y6D8avS1rdUzoP3Kz0KTmA+g/A755NfGs6D8B37yaeFboPw502kCnDeg/G+i0gU4b6D9r4lnRSMDnP7LkF0t+seg/2IIt2IIt6D/QaQOdNtDnPyIiIiIiIuo/w2vvKdJV6D9SuB6F61HoP4ZdAXKvueg/EzyYJ+rf6D8c6LSBThvoP5b8Yskvlug/pHA9Ctej6D+IiIiIiIjoPw9Tl9sfZOg/YCz5xZJf6D9SuB6F61HoP9tApw102ug/zMzMzMzM6D8iIiIiIiLqPw==",
          "dtype": "f8"
         },
         "y0": " ",
         "yaxis": "y"
        },
        {
         "alignmentgroup": "True",
         "hovertemplate": "Método=%{x}<br>Classificação Média=%{y}<extra></extra>",
         "legendgroup": "IKS",
         "marker": {
          "color": "#ab63fa"
         },
         "name": "IKS",
         "notched": false,
         "offsetgroup": "IKS",
         "orientation": "v",
         "showlegend": true,
         "type": "box",
         "x": [
          "IKS",
          "IKS",
          "IKS",
          "IKS",
          "IKS",
          "IKS",
          "IKS",
          "IKS",
          "IKS",
          "IKS",
          "IKS",
          "IKS",
          "IKS",
          "IKS",
          "IKS",
          "IKS",
          "IKS",
          "IKS",
          "IKS",
          "IKS",
          "IKS",
          "IKS",
          "IKS",
          "IKS",
          "IKS",
          "IKS",
          "IKS",
          "IKS",
          "IKS",
          "IKS",
          "IKS",
          "IKS",
          "IKS",
          "IKS",
          "IKS",
          "IKS",
          "IKS",
          "IKS",
          "IKS",
          "IKS",
          "IKS",
          "IKS",
          "IKS",
          "IKS",
          "IKS",
          "IKS",
          "IKS",
          "IKS",
          "IKS",
          "IKS",
          "IKS",
          "IKS",
          "IKS",
          "IKS",
          "IKS",
          "IKS",
          "IKS",
          "IKS",
          "IKS",
          "IKS",
          "IKS",
          "IKS"
         ],
         "x0": " ",
         "xaxis": "x",
         "y": {
          "bdata": "frHkF0t+6T86baDTBjrpPxPPikYCvuk/3t3d3d3d6T8iIiIiIiLqPyz5xZJfLOk/jQR882ri6T/45tXEs6LpPyz5xZJfLOk/HoXrUbge6T9l9Las1THpP6cNdNpAp+k/0GkDnTbQ6T8YS36x5BfpP9bqmODBPOk/wDevJp4V6T94d3d3d3fpP0jhehSuR+k/HMdxHMdx6D+7AuRecyHpP9mP/diP/eg/pS63P8hQ6T8K16NwPQrpPzJ6W9bqmOg/ThvotIFO5z8rO0xdbn/oP5020GkDneg/eTXxrGgk6D+TXyz5xZLnPwAAAAAAAOg/KFyPwvUo6D9SuB6F61HoP1yPwvUoXOc/X008KxoJ6D9Bpw102kDnPzbQaQOdNug/lR2mLrc/6D/i7MNn2BXoPxsJ+ObVxOc/d3d3d3d35z+9mnhWNBLoP1O4HoXrUeg/8oslv1jy5z+N3pa1OiboP3sUrkfheug/HoXrUbge5z+/WPKLJb/oP4XrUbgehec/PQrXo3A96D8XkqZUnH3oP05iEFg5tOg/suQXS36x6D9fTTwrGgnoP/KLJb9Y8uc/82riWdFI6D+wBVuwBVvoP6RwPQrXo+g/baDTBjpt6D8K16NwPQrnP8kvlvxiyec/KVyPwvUo6D9+seQXS37pPw==",
          "dtype": "f8"
         },
         "y0": " ",
         "yaxis": "y"
        },
        {
         "alignmentgroup": "True",
         "hovertemplate": "Método=%{x}<br>Classificação Média=%{y}<extra></extra>",
         "legendgroup": "TOPLINE",
         "marker": {
          "color": "#FFA15A"
         },
         "name": "TOPLINE",
         "notched": false,
         "offsetgroup": "TOPLINE",
         "orientation": "v",
         "showlegend": true,
         "type": "box",
         "x": [
          "TOPLINE",
          "TOPLINE",
          "TOPLINE",
          "TOPLINE",
          "TOPLINE",
          "TOPLINE",
          "TOPLINE",
          "TOPLINE",
          "TOPLINE",
          "TOPLINE",
          "TOPLINE",
          "TOPLINE",
          "TOPLINE",
          "TOPLINE",
          "TOPLINE",
          "TOPLINE",
          "TOPLINE",
          "TOPLINE",
          "TOPLINE",
          "TOPLINE",
          "TOPLINE",
          "TOPLINE",
          "TOPLINE",
          "TOPLINE",
          "TOPLINE",
          "TOPLINE",
          "TOPLINE",
          "TOPLINE",
          "TOPLINE",
          "TOPLINE",
          "TOPLINE",
          "TOPLINE",
          "TOPLINE",
          "TOPLINE",
          "TOPLINE",
          "TOPLINE",
          "TOPLINE",
          "TOPLINE",
          "TOPLINE",
          "TOPLINE",
          "TOPLINE",
          "TOPLINE",
          "TOPLINE",
          "TOPLINE",
          "TOPLINE",
          "TOPLINE",
          "TOPLINE",
          "TOPLINE",
          "TOPLINE",
          "TOPLINE",
          "TOPLINE",
          "TOPLINE",
          "TOPLINE",
          "TOPLINE",
          "TOPLINE",
          "TOPLINE",
          "TOPLINE",
          "TOPLINE",
          "TOPLINE",
          "TOPLINE",
          "TOPLINE",
          "TOPLINE",
          "TOPLINE"
         ],
         "x0": " ",
         "xaxis": "x",
         "y": {
          "bdata": "ERERERER6T/sUbgehevpP9BpA5020Ok/AAAAAAAA6D9I4XoUrkfpPyz5xZJfLOk/py63P8hQ6T80MzMzMzPpP2oDnTbQaek/frHkF0t+6T8ehetRuB7pP0jhehSuR+k/XI/C9Shc6T8fhetRuB7pPywaCfjm1eg/pHA9Ctej6D9Tl9sfZKjoP9tApw102ug/zczMzMzM6D/JL5b8YsnnP2t1TPBgnug/qMZLN4lB6D+dNtBpA53oP9pApw102ug/FWcfPsOu6D8RERERERHpP+i0gU4b6Og/iYiIiIiI6D+JiIiIiIjoPwAAAAAAAOg/baDTBjpt6D93d3d3d3fnP2ZmZmZmZuY/5RdLfrHk5z97FK5H4XroP5jbH2So7Og/AAAAAAAA6D/JL5b8YsnnP65H4XoUruc/agOdNtBp5z8pXI/C9SjoP8kvlvxiyec/4XoUrkfh5z8GgZVDi2znP5Udpi63P+g/exSuR+F66D9uoNMGOm3oPyIiIiIiIug/IiIiIiIi6D/yiyW/WPLnP5NfLPnFkuc/U7gehetR6D/lF0t+seTnPylcj8L1KOg/4cE8Uf9G6D+y5BdLfrHoP2As+cWSX+g/GEt+seQX5z+kcD0K16PoP/hT46WbxOg/baDTBjpt6D9cj8L1KFznP65H4XoUruc/",
          "dtype": "f8"
         },
         "y0": " ",
         "yaxis": "y"
        },
        {
         "alignmentgroup": "True",
         "hovertemplate": "Método=%{x}<br>Classificação Média=%{y}<extra></extra>",
         "legendgroup": "BASELINE",
         "marker": {
          "color": "#19d3f3"
         },
         "name": "BASELINE",
         "notched": false,
         "offsetgroup": "BASELINE",
         "orientation": "v",
         "showlegend": true,
         "type": "box",
         "x": [
          "BASELINE",
          "BASELINE",
          "BASELINE",
          "BASELINE",
          "BASELINE",
          "BASELINE",
          "BASELINE",
          "BASELINE",
          "BASELINE",
          "BASELINE",
          "BASELINE",
          "BASELINE",
          "BASELINE",
          "BASELINE",
          "BASELINE",
          "BASELINE",
          "BASELINE",
          "BASELINE",
          "BASELINE",
          "BASELINE",
          "BASELINE",
          "BASELINE",
          "BASELINE",
          "BASELINE",
          "BASELINE",
          "BASELINE",
          "BASELINE",
          "BASELINE",
          "BASELINE",
          "BASELINE",
          "BASELINE",
          "BASELINE",
          "BASELINE",
          "BASELINE",
          "BASELINE",
          "BASELINE",
          "BASELINE",
          "BASELINE",
          "BASELINE",
          "BASELINE",
          "BASELINE",
          "BASELINE",
          "BASELINE",
          "BASELINE",
          "BASELINE",
          "BASELINE",
          "BASELINE",
          "BASELINE",
          "BASELINE",
          "BASELINE",
          "BASELINE",
          "BASELINE",
          "BASELINE",
          "BASELINE",
          "BASELINE",
          "BASELINE",
          "BASELINE",
          "BASELINE",
          "BASELINE",
          "BASELINE",
          "BASELINE",
          "BASELINE",
          "BASELINE",
          "BASELINE"
         ],
         "x0": " ",
         "xaxis": "x",
         "y": {
          "bdata": "rkfhehSu5z8PU5fbH2ToPxvotIFOG+g/G+i0gU4b6D/lF0t+seTnP8taHRM8mOc/16NwPQrX5z+dNtBpA53mPya/WPKLJec/QacNdNpA5z92xs1Ck5rnP1yPwvUoXOc/GEt+seQX5z+EDJUdpi7nP8dxHMdxHOc/GSeScSIZ5z9cj8L1KFznPya/WPKLJec/YhBYObTI5j96ov6NUEbnP3E9CtejcOc/GSo7TF1u5z/NzMzMzMzmP8aSXyz5xeY/4JtXE8+K5j/JL5b8YsnnP5020GkDneY/Jr9Y8osl5z+4HoXrUbjmP7gehetRuOY/1AY6baDT5j8K16NwPQrnP4JOG+i0geY/QacNdNpA5z/JL5b8YsnnP1K4HoXrUeg/UrgehetR6D820GkDnTboP4iIiIiIiOg/tMh2vp8a5z8zMzMzMzPnP+K19xTpKug/oNMGOm2g5z8aNwtNaj7oPx5KCOsW1ec/hetRuB6F5z/5xZJfLPnnP1yPwvUoXOc/yS+W/GLJ5z+JiIiIiIjoP/UoXI/C9eg/VHaYutz+6D/lF0t+seTnP69H4XoUruc/VOOlm8Qg6D+JiIiIiIjoP6abxCCwcug/7+7u7u7u5j9SuB6F61HoP1K4HoXrUeg/A755NfGs6D+/WPKLJb/oPxvotIFOG+g/UrgehetR6D8=",
          "dtype": "f8"
         },
         "y0": " ",
         "yaxis": "y"
        }
       ],
       "layout": {
        "boxmode": "overlay",
        "legend": {
         "title": {
          "text": "Método"
         },
         "tracegroupgap": 0
        },
        "template": {
         "data": {
          "bar": [
           {
            "error_x": {
             "color": "#2a3f5f"
            },
            "error_y": {
             "color": "#2a3f5f"
            },
            "marker": {
             "line": {
              "color": "#E5ECF6",
              "width": 0.5
             },
             "pattern": {
              "fillmode": "overlay",
              "size": 10,
              "solidity": 0.2
             }
            },
            "type": "bar"
           }
          ],
          "barpolar": [
           {
            "marker": {
             "line": {
              "color": "#E5ECF6",
              "width": 0.5
             },
             "pattern": {
              "fillmode": "overlay",
              "size": 10,
              "solidity": 0.2
             }
            },
            "type": "barpolar"
           }
          ],
          "carpet": [
           {
            "aaxis": {
             "endlinecolor": "#2a3f5f",
             "gridcolor": "white",
             "linecolor": "white",
             "minorgridcolor": "white",
             "startlinecolor": "#2a3f5f"
            },
            "baxis": {
             "endlinecolor": "#2a3f5f",
             "gridcolor": "white",
             "linecolor": "white",
             "minorgridcolor": "white",
             "startlinecolor": "#2a3f5f"
            },
            "type": "carpet"
           }
          ],
          "choropleth": [
           {
            "colorbar": {
             "outlinewidth": 0,
             "ticks": ""
            },
            "type": "choropleth"
           }
          ],
          "contour": [
           {
            "colorbar": {
             "outlinewidth": 0,
             "ticks": ""
            },
            "colorscale": [
             [
              0,
              "#0d0887"
             ],
             [
              0.1111111111111111,
              "#46039f"
             ],
             [
              0.2222222222222222,
              "#7201a8"
             ],
             [
              0.3333333333333333,
              "#9c179e"
             ],
             [
              0.4444444444444444,
              "#bd3786"
             ],
             [
              0.5555555555555556,
              "#d8576b"
             ],
             [
              0.6666666666666666,
              "#ed7953"
             ],
             [
              0.7777777777777778,
              "#fb9f3a"
             ],
             [
              0.8888888888888888,
              "#fdca26"
             ],
             [
              1,
              "#f0f921"
             ]
            ],
            "type": "contour"
           }
          ],
          "contourcarpet": [
           {
            "colorbar": {
             "outlinewidth": 0,
             "ticks": ""
            },
            "type": "contourcarpet"
           }
          ],
          "heatmap": [
           {
            "colorbar": {
             "outlinewidth": 0,
             "ticks": ""
            },
            "colorscale": [
             [
              0,
              "#0d0887"
             ],
             [
              0.1111111111111111,
              "#46039f"
             ],
             [
              0.2222222222222222,
              "#7201a8"
             ],
             [
              0.3333333333333333,
              "#9c179e"
             ],
             [
              0.4444444444444444,
              "#bd3786"
             ],
             [
              0.5555555555555556,
              "#d8576b"
             ],
             [
              0.6666666666666666,
              "#ed7953"
             ],
             [
              0.7777777777777778,
              "#fb9f3a"
             ],
             [
              0.8888888888888888,
              "#fdca26"
             ],
             [
              1,
              "#f0f921"
             ]
            ],
            "type": "heatmap"
           }
          ],
          "histogram": [
           {
            "marker": {
             "pattern": {
              "fillmode": "overlay",
              "size": 10,
              "solidity": 0.2
             }
            },
            "type": "histogram"
           }
          ],
          "histogram2d": [
           {
            "colorbar": {
             "outlinewidth": 0,
             "ticks": ""
            },
            "colorscale": [
             [
              0,
              "#0d0887"
             ],
             [
              0.1111111111111111,
              "#46039f"
             ],
             [
              0.2222222222222222,
              "#7201a8"
             ],
             [
              0.3333333333333333,
              "#9c179e"
             ],
             [
              0.4444444444444444,
              "#bd3786"
             ],
             [
              0.5555555555555556,
              "#d8576b"
             ],
             [
              0.6666666666666666,
              "#ed7953"
             ],
             [
              0.7777777777777778,
              "#fb9f3a"
             ],
             [
              0.8888888888888888,
              "#fdca26"
             ],
             [
              1,
              "#f0f921"
             ]
            ],
            "type": "histogram2d"
           }
          ],
          "histogram2dcontour": [
           {
            "colorbar": {
             "outlinewidth": 0,
             "ticks": ""
            },
            "colorscale": [
             [
              0,
              "#0d0887"
             ],
             [
              0.1111111111111111,
              "#46039f"
             ],
             [
              0.2222222222222222,
              "#7201a8"
             ],
             [
              0.3333333333333333,
              "#9c179e"
             ],
             [
              0.4444444444444444,
              "#bd3786"
             ],
             [
              0.5555555555555556,
              "#d8576b"
             ],
             [
              0.6666666666666666,
              "#ed7953"
             ],
             [
              0.7777777777777778,
              "#fb9f3a"
             ],
             [
              0.8888888888888888,
              "#fdca26"
             ],
             [
              1,
              "#f0f921"
             ]
            ],
            "type": "histogram2dcontour"
           }
          ],
          "mesh3d": [
           {
            "colorbar": {
             "outlinewidth": 0,
             "ticks": ""
            },
            "type": "mesh3d"
           }
          ],
          "parcoords": [
           {
            "line": {
             "colorbar": {
              "outlinewidth": 0,
              "ticks": ""
             }
            },
            "type": "parcoords"
           }
          ],
          "pie": [
           {
            "automargin": true,
            "type": "pie"
           }
          ],
          "scatter": [
           {
            "fillpattern": {
             "fillmode": "overlay",
             "size": 10,
             "solidity": 0.2
            },
            "type": "scatter"
           }
          ],
          "scatter3d": [
           {
            "line": {
             "colorbar": {
              "outlinewidth": 0,
              "ticks": ""
             }
            },
            "marker": {
             "colorbar": {
              "outlinewidth": 0,
              "ticks": ""
             }
            },
            "type": "scatter3d"
           }
          ],
          "scattercarpet": [
           {
            "marker": {
             "colorbar": {
              "outlinewidth": 0,
              "ticks": ""
             }
            },
            "type": "scattercarpet"
           }
          ],
          "scattergeo": [
           {
            "marker": {
             "colorbar": {
              "outlinewidth": 0,
              "ticks": ""
             }
            },
            "type": "scattergeo"
           }
          ],
          "scattergl": [
           {
            "marker": {
             "colorbar": {
              "outlinewidth": 0,
              "ticks": ""
             }
            },
            "type": "scattergl"
           }
          ],
          "scattermap": [
           {
            "marker": {
             "colorbar": {
              "outlinewidth": 0,
              "ticks": ""
             }
            },
            "type": "scattermap"
           }
          ],
          "scattermapbox": [
           {
            "marker": {
             "colorbar": {
              "outlinewidth": 0,
              "ticks": ""
             }
            },
            "type": "scattermapbox"
           }
          ],
          "scatterpolar": [
           {
            "marker": {
             "colorbar": {
              "outlinewidth": 0,
              "ticks": ""
             }
            },
            "type": "scatterpolar"
           }
          ],
          "scatterpolargl": [
           {
            "marker": {
             "colorbar": {
              "outlinewidth": 0,
              "ticks": ""
             }
            },
            "type": "scatterpolargl"
           }
          ],
          "scatterternary": [
           {
            "marker": {
             "colorbar": {
              "outlinewidth": 0,
              "ticks": ""
             }
            },
            "type": "scatterternary"
           }
          ],
          "surface": [
           {
            "colorbar": {
             "outlinewidth": 0,
             "ticks": ""
            },
            "colorscale": [
             [
              0,
              "#0d0887"
             ],
             [
              0.1111111111111111,
              "#46039f"
             ],
             [
              0.2222222222222222,
              "#7201a8"
             ],
             [
              0.3333333333333333,
              "#9c179e"
             ],
             [
              0.4444444444444444,
              "#bd3786"
             ],
             [
              0.5555555555555556,
              "#d8576b"
             ],
             [
              0.6666666666666666,
              "#ed7953"
             ],
             [
              0.7777777777777778,
              "#fb9f3a"
             ],
             [
              0.8888888888888888,
              "#fdca26"
             ],
             [
              1,
              "#f0f921"
             ]
            ],
            "type": "surface"
           }
          ],
          "table": [
           {
            "cells": {
             "fill": {
              "color": "#EBF0F8"
             },
             "line": {
              "color": "white"
             }
            },
            "header": {
             "fill": {
              "color": "#C8D4E3"
             },
             "line": {
              "color": "white"
             }
            },
            "type": "table"
           }
          ]
         },
         "layout": {
          "annotationdefaults": {
           "arrowcolor": "#2a3f5f",
           "arrowhead": 0,
           "arrowwidth": 1
          },
          "autotypenumbers": "strict",
          "coloraxis": {
           "colorbar": {
            "outlinewidth": 0,
            "ticks": ""
           }
          },
          "colorscale": {
           "diverging": [
            [
             0,
             "#8e0152"
            ],
            [
             0.1,
             "#c51b7d"
            ],
            [
             0.2,
             "#de77ae"
            ],
            [
             0.3,
             "#f1b6da"
            ],
            [
             0.4,
             "#fde0ef"
            ],
            [
             0.5,
             "#f7f7f7"
            ],
            [
             0.6,
             "#e6f5d0"
            ],
            [
             0.7,
             "#b8e186"
            ],
            [
             0.8,
             "#7fbc41"
            ],
            [
             0.9,
             "#4d9221"
            ],
            [
             1,
             "#276419"
            ]
           ],
           "sequential": [
            [
             0,
             "#0d0887"
            ],
            [
             0.1111111111111111,
             "#46039f"
            ],
            [
             0.2222222222222222,
             "#7201a8"
            ],
            [
             0.3333333333333333,
             "#9c179e"
            ],
            [
             0.4444444444444444,
             "#bd3786"
            ],
            [
             0.5555555555555556,
             "#d8576b"
            ],
            [
             0.6666666666666666,
             "#ed7953"
            ],
            [
             0.7777777777777778,
             "#fb9f3a"
            ],
            [
             0.8888888888888888,
             "#fdca26"
            ],
            [
             1,
             "#f0f921"
            ]
           ],
           "sequentialminus": [
            [
             0,
             "#0d0887"
            ],
            [
             0.1111111111111111,
             "#46039f"
            ],
            [
             0.2222222222222222,
             "#7201a8"
            ],
            [
             0.3333333333333333,
             "#9c179e"
            ],
            [
             0.4444444444444444,
             "#bd3786"
            ],
            [
             0.5555555555555556,
             "#d8576b"
            ],
            [
             0.6666666666666666,
             "#ed7953"
            ],
            [
             0.7777777777777778,
             "#fb9f3a"
            ],
            [
             0.8888888888888888,
             "#fdca26"
            ],
            [
             1,
             "#f0f921"
            ]
           ]
          },
          "colorway": [
           "#636efa",
           "#EF553B",
           "#00cc96",
           "#ab63fa",
           "#FFA15A",
           "#19d3f3",
           "#FF6692",
           "#B6E880",
           "#FF97FF",
           "#FECB52"
          ],
          "font": {
           "color": "#2a3f5f"
          },
          "geo": {
           "bgcolor": "white",
           "lakecolor": "white",
           "landcolor": "#E5ECF6",
           "showlakes": true,
           "showland": true,
           "subunitcolor": "white"
          },
          "hoverlabel": {
           "align": "left"
          },
          "hovermode": "closest",
          "mapbox": {
           "style": "light"
          },
          "paper_bgcolor": "white",
          "plot_bgcolor": "#E5ECF6",
          "polar": {
           "angularaxis": {
            "gridcolor": "white",
            "linecolor": "white",
            "ticks": ""
           },
           "bgcolor": "#E5ECF6",
           "radialaxis": {
            "gridcolor": "white",
            "linecolor": "white",
            "ticks": ""
           }
          },
          "scene": {
           "xaxis": {
            "backgroundcolor": "#E5ECF6",
            "gridcolor": "white",
            "gridwidth": 2,
            "linecolor": "white",
            "showbackground": true,
            "ticks": "",
            "zerolinecolor": "white"
           },
           "yaxis": {
            "backgroundcolor": "#E5ECF6",
            "gridcolor": "white",
            "gridwidth": 2,
            "linecolor": "white",
            "showbackground": true,
            "ticks": "",
            "zerolinecolor": "white"
           },
           "zaxis": {
            "backgroundcolor": "#E5ECF6",
            "gridcolor": "white",
            "gridwidth": 2,
            "linecolor": "white",
            "showbackground": true,
            "ticks": "",
            "zerolinecolor": "white"
           }
          },
          "shapedefaults": {
           "line": {
            "color": "#2a3f5f"
           }
          },
          "ternary": {
           "aaxis": {
            "gridcolor": "white",
            "linecolor": "white",
            "ticks": ""
           },
           "baxis": {
            "gridcolor": "white",
            "linecolor": "white",
            "ticks": ""
           },
           "bgcolor": "#E5ECF6",
           "caxis": {
            "gridcolor": "white",
            "linecolor": "white",
            "ticks": ""
           }
          },
          "title": {
           "x": 0.05
          },
          "xaxis": {
           "automargin": true,
           "gridcolor": "white",
           "linecolor": "white",
           "ticks": "",
           "title": {
            "standoff": 15
           },
           "zerolinecolor": "white",
           "zerolinewidth": 2
          },
          "yaxis": {
           "automargin": true,
           "gridcolor": "white",
           "linecolor": "white",
           "ticks": "",
           "title": {
            "standoff": 15
           },
           "zerolinecolor": "white",
           "zerolinewidth": 2
          }
         }
        },
        "title": {
         "text": "Normal"
        },
        "xaxis": {
         "anchor": "y",
         "categoryarray": [
          "IBDD",
          "WRS",
          "CDT",
          "IKS",
          "TOPLINE",
          "BASELINE"
         ],
         "categoryorder": "array",
         "domain": [
          0,
          1
         ],
         "title": {
          "text": "Método"
         }
        },
        "yaxis": {
         "anchor": "x",
         "domain": [
          0,
          1
         ],
         "title": {
          "text": "Classificação Média"
         }
        }
       }
      }
     },
     "metadata": {},
     "output_type": "display_data"
    }
   ],
   "source": [
    "# Agrupar por 'class_distribution' e 'method' e calcular a média de 'classification'\n",
    "df_agg = df_normal.groupby(['class_distribution', 'method']).agg({\n",
    "    'classification': 'mean'\n",
    "}).reset_index()\n",
    "\n",
    "# Renomear colunas para melhor legibilidade\n",
    "df_agg.columns = ['class_distribution', 'method', 'classification_mean']\n",
    "\n",
    "# Ordenar os métodos pela classificação média\n",
    "ordered_methods = df_agg.groupby('method')['classification_mean'].mean().sort_values(ascending=False).index\n",
    "\n",
    "# Criar o boxplot\n",
    "fig = px.box(df_agg, x='method', y='classification_mean', \n",
    "             title=f\"Normal\",\n",
    "             category_orders={'method': ordered_methods},\n",
    "             color='method', \n",
    "             labels={'method': 'Método', 'classification_mean': 'Classificação Média'})\n",
    "\n",
    "fig.show()"
   ]
  },
  {
   "cell_type": "code",
   "execution_count": null,
   "metadata": {},
   "outputs": [],
   "source": []
  }
 ],
 "metadata": {
  "kernelspec": {
   "display_name": ".venv",
   "language": "python",
   "name": "python3"
  },
  "language_info": {
   "codemirror_mode": {
    "name": "ipython",
    "version": 3
   },
   "file_extension": ".py",
   "mimetype": "text/x-python",
   "name": "python",
   "nbconvert_exporter": "python",
   "pygments_lexer": "ipython3",
   "version": "3.13.2"
  }
 },
 "nbformat": 4,
 "nbformat_minor": 2
}
